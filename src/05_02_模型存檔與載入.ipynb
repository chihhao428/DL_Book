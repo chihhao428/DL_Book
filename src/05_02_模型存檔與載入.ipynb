{
 "cells": [
  {
   "cell_type": "markdown",
   "metadata": {},
   "source": [
    "# 模型存檔與載入(Save and Loading)"
   ]
  },
  {
   "cell_type": "markdown",
   "metadata": {},
   "source": [
    "## MNIST 手寫阿拉伯數字辨識"
   ]
  },
  {
   "cell_type": "code",
   "execution_count": 1,
   "metadata": {},
   "outputs": [
    {
     "name": "stdout",
     "output_type": "stream",
     "text": [
      "Epoch 1/5\n",
      "1500/1500 [==============================] - 7s 4ms/step - loss: 0.4575 - accuracy: 0.8651 - val_loss: 0.1314 - val_accuracy: 0.9627\n",
      "Epoch 2/5\n",
      "1500/1500 [==============================] - 5s 3ms/step - loss: 0.1312 - accuracy: 0.9610 - val_loss: 0.0963 - val_accuracy: 0.9711\n",
      "Epoch 3/5\n",
      "1500/1500 [==============================] - 5s 3ms/step - loss: 0.0937 - accuracy: 0.9731 - val_loss: 0.0892 - val_accuracy: 0.9741\n",
      "Epoch 4/5\n",
      "1500/1500 [==============================] - 5s 3ms/step - loss: 0.0681 - accuracy: 0.9784 - val_loss: 0.0812 - val_accuracy: 0.9768\n",
      "Epoch 5/5\n",
      "1500/1500 [==============================] - 5s 3ms/step - loss: 0.0542 - accuracy: 0.9824 - val_loss: 0.0791 - val_accuracy: 0.9768\n",
      "loss: 0.0732\n",
      "accuracy: 0.9769\n"
     ]
    }
   ],
   "source": [
    "import tensorflow as tf\n",
    "\n",
    "mnist = tf.keras.datasets.mnist\n",
    "\n",
    "# 載入 MNIST 手寫阿拉伯數字資料\n",
    "(x_train, y_train),(x_test, y_test) = mnist.load_data()\n",
    "\n",
    "# 特徵縮放，使用常態化(Normalization)，公式 = (x - min) / (max - min)\n",
    "x_train_norm, x_test_norm = x_train / 255.0, x_test / 255.0\n",
    "\n",
    "# 建立模型\n",
    "model = tf.keras.models.Sequential([\n",
    "    tf.keras.layers.Flatten(input_shape=(28, 28)),\n",
    "    tf.keras.layers.Dense(256, activation='relu'),\n",
    "    tf.keras.layers.Dropout(0.2),\n",
    "    tf.keras.layers.Dense(10, activation='softmax')\n",
    "])\n",
    "\n",
    "# 設定優化器(optimizer)、損失函數(loss)、效能衡量指標(metrics)的類別\n",
    "model.compile(optimizer='adam',\n",
    "              loss='sparse_categorical_crossentropy',\n",
    "              metrics=['accuracy'])\n",
    "\n",
    "# 模型訓練\n",
    "history = model.fit(x_train_norm, y_train, epochs=5, validation_split=0.2)\n",
    "\n",
    "# 評分(Score Model)\n",
    "score=model.evaluate(x_test_norm, y_test, verbose=0)\n",
    "\n",
    "for i, x in enumerate(score):\n",
    "    print(f'{model.metrics_names[i]}: {score[i]:.4f}')"
   ]
  },
  {
   "cell_type": "markdown",
   "metadata": {},
   "source": [
    "## 模型存檔(Save)"
   ]
  },
  {
   "cell_type": "code",
   "execution_count": 2,
   "metadata": {
    "scrolled": true
   },
   "outputs": [
    {
     "name": "stdout",
     "output_type": "stream",
     "text": [
      "INFO:tensorflow:Assets written to: my_model\\assets\n"
     ]
    }
   ],
   "source": [
    "model.save('my_model')"
   ]
  },
  {
   "cell_type": "markdown",
   "metadata": {},
   "source": [
    "## 模型載入(Loading)"
   ]
  },
  {
   "cell_type": "code",
   "execution_count": 10,
   "metadata": {
    "scrolled": true
   },
   "outputs": [
    {
     "name": "stdout",
     "output_type": "stream",
     "text": [
      "loss: 0.0834\n",
      "accuracy: 0.9750\n"
     ]
    }
   ],
   "source": [
    "# 模型載入\n",
    "model2 = tf.keras.models.load_model('my_model')\n",
    "\n",
    "# 評分(Score Model)\n",
    "score=model2.evaluate(x_test_norm, y_test, verbose=0)\n",
    "\n",
    "for i, x in enumerate(score):\n",
    "    print(f'{model2.metrics_names[i]}: {score[i]:.4f}')"
   ]
  },
  {
   "cell_type": "code",
   "execution_count": 11,
   "metadata": {},
   "outputs": [],
   "source": [
    "# 模型比較\n",
    "import numpy as np\n",
    "\n",
    "# 比較，若結果不同，會出現錯誤\n",
    "np.testing.assert_allclose(\n",
    "    model.predict(x_test_norm), model2.predict(x_test_norm)\n",
    ")"
   ]
  },
  {
   "cell_type": "markdown",
   "metadata": {},
   "source": [
    "## Keras h5 模型存檔(Save)"
   ]
  },
  {
   "cell_type": "code",
   "execution_count": 2,
   "metadata": {
    "scrolled": true
   },
   "outputs": [],
   "source": [
    "model.save('my_h5_model.h5')"
   ]
  },
  {
   "cell_type": "code",
   "execution_count": 3,
   "metadata": {},
   "outputs": [],
   "source": [
    "# 模型載入\n",
    "model3 = tf.keras.models.load_model('my_h5_model.h5')"
   ]
  },
  {
   "cell_type": "markdown",
   "metadata": {},
   "source": [
    "## 取得模型結構"
   ]
  },
  {
   "cell_type": "code",
   "execution_count": 4,
   "metadata": {},
   "outputs": [],
   "source": [
    "# 取得模型結構\n",
    "config = model.get_config()\n",
    "\n",
    "# 載入模型結構\n",
    "# Sequential model\n",
    "new_model = tf.keras.Sequential.from_config(config)\n",
    "\n",
    "# function API\n",
    "# new_model = tf.keras.Model.from_config(config)"
   ]
  },
  {
   "cell_type": "markdown",
   "metadata": {},
   "source": [
    "## json 格式"
   ]
  },
  {
   "cell_type": "code",
   "execution_count": 5,
   "metadata": {},
   "outputs": [],
   "source": [
    "# 取得模型結構\n",
    "json_config = model.to_json()\n",
    "\n",
    "# 載入模型結構\n",
    "new_model = tf.keras.models.model_from_json(json_config)"
   ]
  },
  {
   "cell_type": "markdown",
   "metadata": {},
   "source": [
    "## 取得模型權重"
   ]
  },
  {
   "cell_type": "code",
   "execution_count": 6,
   "metadata": {},
   "outputs": [
    {
     "data": {
      "text/plain": [
       "[array([[-0.05122572, -0.04820989,  0.01318664, ...,  0.03143455,\n",
       "          0.00297445, -0.07300355],\n",
       "        [ 0.0101722 ,  0.03137897, -0.03661704, ..., -0.0711699 ,\n",
       "         -0.01441861, -0.0257089 ],\n",
       "        [ 0.02733881, -0.0616094 , -0.0261831 , ..., -0.0515497 ,\n",
       "         -0.07041344,  0.02369354],\n",
       "        ...,\n",
       "        [ 0.06716409, -0.02144293,  0.01964677, ...,  0.0598575 ,\n",
       "         -0.06414444, -0.03448999],\n",
       "        [ 0.05431178, -0.07536372, -0.03489753, ...,  0.05289243,\n",
       "          0.04831088,  0.06894174],\n",
       "        [ 0.0050236 , -0.03827769, -0.07115825, ..., -0.07327431,\n",
       "          0.00056756,  0.05619989]], dtype=float32),\n",
       " array([-0.03355365,  0.035563  , -0.02280897, -0.02861411,  0.01783536,\n",
       "         0.01770549, -0.04224253,  0.00521078,  0.02733752,  0.0242949 ,\n",
       "         0.05571995,  0.06856805, -0.0332422 ,  0.0560267 , -0.0073974 ,\n",
       "         0.03009453, -0.06499308, -0.02039569,  0.01326195,  0.05001385,\n",
       "        -0.09214851,  0.04905553,  0.03864126,  0.08663406,  0.02112517,\n",
       "         0.02278519,  0.15255928, -0.00453705,  0.01235894, -0.08982389,\n",
       "        -0.08011338,  0.00597723, -0.16491078, -0.02876501,  0.07258581,\n",
       "         0.08929077,  0.11081656, -0.03811272,  0.1644173 ,  0.07756567,\n",
       "         0.03163677, -0.13390058,  0.04233819,  0.02177623, -0.03486564,\n",
       "        -0.0241819 ,  0.06316684,  0.00029374, -0.02311317, -0.12146714,\n",
       "        -0.03372876, -0.04482056,  0.09563041,  0.04810046, -0.02695976,\n",
       "         0.026878  ,  0.0546938 ,  0.07361563, -0.05021631,  0.05621089,\n",
       "         0.02253566, -0.01960355, -0.00693647, -0.03125954, -0.0631201 ,\n",
       "         0.0344907 ,  0.07953139, -0.02126827, -0.00360906, -0.04016128,\n",
       "        -0.07374579, -0.04187904, -0.0345129 ,  0.01593986,  0.0603711 ,\n",
       "        -0.03801984,  0.01838999, -0.05974041,  0.08155905,  0.05449998,\n",
       "        -0.08533444,  0.00355641, -0.01639834,  0.04332009,  0.09479935,\n",
       "         0.0703678 ,  0.06870472,  0.03261926, -0.07257044, -0.01622111,\n",
       "         0.12554632, -0.01590406,  0.08839123,  0.04022994,  0.057824  ,\n",
       "         0.03098621,  0.04973073,  0.00776654, -0.02014019, -0.03590753,\n",
       "         0.08893312, -0.02804369,  0.08130471,  0.09959747,  0.02133862,\n",
       "        -0.04618293,  0.01014685,  0.02213074, -0.05910506,  0.07255568,\n",
       "        -0.08990069, -0.06442787,  0.01964897,  0.04752382, -0.07510097,\n",
       "         0.01319956, -0.06021548,  0.06039391,  0.12481513, -0.02254201,\n",
       "         0.0037945 ,  0.04972126,  0.03889589,  0.00798444, -0.08218232,\n",
       "        -0.01481316, -0.1327736 ,  0.09650508,  0.01160125, -0.0162006 ,\n",
       "        -0.12900013, -0.04893022, -0.02662723,  0.08364658,  0.07214137,\n",
       "        -0.02221638, -0.03502797, -0.06783726,  0.05698195, -0.13004228,\n",
       "        -0.04608135, -0.04443651,  0.02924249, -0.03921183,  0.01669115,\n",
       "        -0.06008534,  0.00793585, -0.00146596, -0.00265218,  0.08161078,\n",
       "         0.01468581,  0.05493983,  0.06826113, -0.04281493, -0.03686782,\n",
       "        -0.01108747,  0.08056039, -0.05535857, -0.08167399, -0.08033415,\n",
       "        -0.01426973,  0.13461812,  0.03015589, -0.02180377, -0.06476784,\n",
       "         0.01143521, -0.00927923, -0.0138692 , -0.12290927,  0.06525072,\n",
       "        -0.09716006, -0.04484545,  0.1177893 , -0.01089311,  0.02321591,\n",
       "         0.08295725, -0.09862822, -0.00356977, -0.06841408, -0.0072304 ,\n",
       "        -0.06478041,  0.09090383,  0.01419722,  0.06396396,  0.03399244,\n",
       "        -0.06545183,  0.12012383,  0.01900703,  0.05081529, -0.04756438,\n",
       "        -0.01444651,  0.08788467,  0.04546734, -0.00802544,  0.15415905,\n",
       "        -0.16671462,  0.08994274,  0.10728762,  0.08618285,  0.0326267 ,\n",
       "         0.03043843,  0.15766293, -0.15731537,  0.11649819, -0.04911175,\n",
       "        -0.07846897,  0.12051218,  0.04411053, -0.02711841,  0.02794512,\n",
       "        -0.01102606,  0.042948  ,  0.12569523,  0.08675329, -0.12759222,\n",
       "         0.03874133, -0.07175679,  0.04648758,  0.15045922,  0.0405042 ,\n",
       "        -0.07811082,  0.03720955,  0.03553085,  0.114283  ,  0.04444285,\n",
       "        -0.07816254, -0.02384427,  0.02340071,  0.04978241,  0.09431794,\n",
       "         0.04025704,  0.16986954, -0.10566424, -0.02066358, -0.04724023,\n",
       "         0.03514027,  0.02879359, -0.01211384,  0.00969615,  0.01918232,\n",
       "         0.0797782 , -0.06744161,  0.15479161,  0.0082824 ,  0.1293934 ,\n",
       "         0.06996506,  0.06925298, -0.0313579 ,  0.03620673,  0.01530309,\n",
       "        -0.00510707, -0.00644829, -0.00768678,  0.05722196, -0.00459098,\n",
       "         0.02899213], dtype=float32),\n",
       " array([[-0.26236287,  0.07781152, -0.04096807, ..., -0.09391434,\n",
       "         -0.05556423, -0.19153933],\n",
       "        [ 0.05388501, -0.28285286, -0.15104663, ...,  0.1414576 ,\n",
       "          0.08168259, -0.25914812],\n",
       "        [-0.01119637,  0.00912153, -0.24564387, ...,  0.08400661,\n",
       "          0.07607562,  0.02703015],\n",
       "        ...,\n",
       "        [ 0.02023244,  0.23244998, -0.03915523, ...,  0.29749677,\n",
       "         -0.4056912 , -0.32707936],\n",
       "        [-0.15949473,  0.07347434,  0.15736012, ...,  0.08582822,\n",
       "         -0.2084567 ,  0.08578372],\n",
       "        [-0.09909157, -0.06733137,  0.2420109 , ..., -0.29722565,\n",
       "         -0.01576649,  0.15650858]], dtype=float32),\n",
       " array([-0.07626083, -0.04259511, -0.00693109, -0.0629041 ,  0.06859622,\n",
       "         0.03026068, -0.08853771, -0.04219884,  0.1784704 , -0.0273392 ],\n",
       "       dtype=float32)]"
      ]
     },
     "execution_count": 6,
     "metadata": {},
     "output_type": "execute_result"
    }
   ],
   "source": [
    "# 取得模型權重\n",
    "weights = model.get_weights()\n",
    "weights"
   ]
  },
  {
   "cell_type": "code",
   "execution_count": 23,
   "metadata": {},
   "outputs": [
    {
     "data": {
      "text/plain": [
       "[0.08337192982435226, 0.9750000238418579]"
      ]
     },
     "execution_count": 23,
     "metadata": {},
     "output_type": "execute_result"
    }
   ],
   "source": [
    "# 設定模型權重\n",
    "new_model.set_weights(weights)\n",
    "\n",
    "# 設定優化器(optimizer)、損失函數(loss)、效能衡量指標(metrics)的類別\n",
    "new_model.compile(optimizer='adam',\n",
    "              loss='sparse_categorical_crossentropy',\n",
    "              metrics=['accuracy'])\n",
    "\n",
    "# predict\n",
    "score=new_model.evaluate(x_test_norm, y_test, verbose=0)\n",
    "score"
   ]
  },
  {
   "cell_type": "markdown",
   "metadata": {},
   "source": [
    "## 取得模型結構時，Custom Layer 需註冊"
   ]
  },
  {
   "cell_type": "code",
   "execution_count": 30,
   "metadata": {},
   "outputs": [],
   "source": [
    "class CustomLayer(tf.keras.layers.Layer):\n",
    "    def __init__(self, units=32, **kwargs):\n",
    "        super(CustomLayer, self).__init__(**kwargs)\n",
    "        self.units = units\n",
    "\n",
    "    def build(self, input_shape):\n",
    "        self.w = self.add_weight(\n",
    "            shape=(input_shape[-1], self.units),\n",
    "            initializer=\"random_normal\",\n",
    "            trainable=True,\n",
    "        )\n",
    "        self.b = self.add_weight(\n",
    "            shape=(self.units,), initializer=\"random_normal\", trainable=True\n",
    "        )\n",
    "\n",
    "    def call(self, inputs):\n",
    "        return tf.matmul(inputs, self.w) + self.b\n",
    "\n",
    "    def get_config(self):\n",
    "        config = super(CustomLayer, self).get_config()\n",
    "        config.update({\"units\": self.units})\n",
    "        return config\n",
    "\n",
    "\n",
    "def custom_activation(x):\n",
    "    return tf.nn.tanh(x) ** 2\n",
    "\n",
    "\n",
    "# Make a model with the CustomLayer and custom_activation\n",
    "inputs = tf.keras.Input((32,))\n",
    "x = CustomLayer(32)(inputs)\n",
    "outputs = tf.keras.layers.Activation(custom_activation)(x)\n",
    "model = tf.keras.Model(inputs, outputs)\n",
    "\n",
    "# Retrieve the config\n",
    "config = model.get_config()\n",
    "\n",
    "# Custom Layer 需註冊\n",
    "custom_objects = {\"CustomLayer\": CustomLayer, \"custom_activation\": custom_activation}\n",
    "with tf.keras.utils.custom_object_scope(custom_objects):\n",
    "    new_model = tf.keras.Model.from_config(config)"
   ]
  },
  {
   "cell_type": "code",
   "execution_count": 8,
   "metadata": {},
   "outputs": [],
   "source": [
    "# 模型權重存檔，有 Custom Layer 會出現錯誤\n",
    "model.save_weights('my_h5_model.weight')"
   ]
  },
  {
   "cell_type": "code",
   "execution_count": 9,
   "metadata": {},
   "outputs": [
    {
     "data": {
      "text/plain": [
       "<tensorflow.python.training.tracking.util.CheckpointLoadStatus at 0x13a4d1f21f0>"
      ]
     },
     "execution_count": 9,
     "metadata": {},
     "output_type": "execute_result"
    }
   ],
   "source": [
    "# 載入模型權重檔\n",
    "model.load_weights('my_h5_model.weight')"
   ]
  },
  {
   "cell_type": "code",
   "execution_count": null,
   "metadata": {},
   "outputs": [],
   "source": []
  }
 ],
 "metadata": {
  "kernelspec": {
   "display_name": "Python 3",
   "language": "python",
   "name": "python3"
  },
  "language_info": {
   "codemirror_mode": {
    "name": "ipython",
    "version": 3
   },
   "file_extension": ".py",
   "mimetype": "text/x-python",
   "name": "python",
   "nbconvert_exporter": "python",
   "pygments_lexer": "ipython3",
   "version": "3.8.3"
  }
 },
 "nbformat": 4,
 "nbformat_minor": 4
}
