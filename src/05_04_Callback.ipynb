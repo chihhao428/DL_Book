{
 "cells": [
  {
   "cell_type": "markdown",
   "metadata": {},
   "source": [
    "# Callbacks"
   ]
  },
  {
   "cell_type": "markdown",
   "metadata": {},
   "source": [
    "## 模型"
   ]
  },
  {
   "cell_type": "code",
   "execution_count": 1,
   "metadata": {},
   "outputs": [],
   "source": [
    "import tensorflow as tf\n",
    "\n",
    "mnist = tf.keras.datasets.mnist\n",
    "\n",
    "# 載入 MNIST 手寫阿拉伯數字資料\n",
    "(x_train, y_train),(x_test, y_test) = mnist.load_data()\n",
    "\n",
    "# 特徵縮放，使用常態化(Normalization)，公式 = (x - min) / (max - min)\n",
    "x_train_norm, x_test_norm = x_train / 255.0, x_test / 255.0\n",
    "\n",
    "# 建立模型\n",
    "model = tf.keras.models.Sequential([\n",
    "    tf.keras.layers.Flatten(input_shape=(28, 28)),\n",
    "    tf.keras.layers.Dense(256, activation='relu'),\n",
    "    tf.keras.layers.Dropout(0.2),\n",
    "    tf.keras.layers.Dense(10, activation='softmax')\n",
    "])\n",
    "\n",
    "# 設定優化器(optimizer)、損失函數(loss)、效能衡量指標(metrics)的類別\n",
    "model.compile(optimizer='adam',\n",
    "              loss='sparse_categorical_crossentropy',\n",
    "              metrics=['accuracy'])\n"
   ]
  },
  {
   "cell_type": "markdown",
   "metadata": {},
   "source": [
    "## EarlyStopping callbacks"
   ]
  },
  {
   "cell_type": "code",
   "execution_count": 15,
   "metadata": {},
   "outputs": [],
   "source": [
    "# validation loss 三個執行週期沒改善就停止訓練\n",
    "my_callbacks = [\n",
    "    tf.keras.callbacks.EarlyStopping(patience=3, monitor = 'val_accuracy'),\n",
    "]"
   ]
  },
  {
   "cell_type": "code",
   "execution_count": 16,
   "metadata": {
    "scrolled": false
   },
   "outputs": [
    {
     "name": "stdout",
     "output_type": "stream",
     "text": [
      "Epoch 1/20\n",
      "1500/1500 [==============================] - 5s 3ms/step - loss: 0.0158 - accuracy: 0.9942 - val_loss: 0.1002 - val_accuracy: 0.9799\n",
      "Epoch 2/20\n",
      "1500/1500 [==============================] - 5s 3ms/step - loss: 0.0183 - accuracy: 0.9937 - val_loss: 0.0969 - val_accuracy: 0.9791\n",
      "Epoch 3/20\n",
      "1500/1500 [==============================] - 5s 3ms/step - loss: 0.0144 - accuracy: 0.9949 - val_loss: 0.0968 - val_accuracy: 0.9808\n",
      "Epoch 4/20\n",
      "1500/1500 [==============================] - 5s 3ms/step - loss: 0.0131 - accuracy: 0.9953 - val_loss: 0.0960 - val_accuracy: 0.9804\n",
      "Epoch 5/20\n",
      "1500/1500 [==============================] - 5s 3ms/step - loss: 0.0150 - accuracy: 0.9948 - val_loss: 0.0900 - val_accuracy: 0.9805\n",
      "Epoch 6/20\n",
      "1500/1500 [==============================] - 5s 3ms/step - loss: 0.0136 - accuracy: 0.9954 - val_loss: 0.0912 - val_accuracy: 0.9819\n",
      "Epoch 7/20\n",
      "1500/1500 [==============================] - 5s 3ms/step - loss: 0.0128 - accuracy: 0.9954 - val_loss: 0.0962 - val_accuracy: 0.9816\n",
      "Epoch 8/20\n",
      "1500/1500 [==============================] - 5s 3ms/step - loss: 0.0112 - accuracy: 0.9959 - val_loss: 0.1020 - val_accuracy: 0.9805\n",
      "Epoch 9/20\n",
      "1500/1500 [==============================] - 5s 3ms/step - loss: 0.0137 - accuracy: 0.9952 - val_loss: 0.1017 - val_accuracy: 0.9813\n"
     ]
    }
   ],
   "source": [
    "# 訓練 20 次，但實際只訓練 12次就停止了\n",
    "history = model.fit(x_train_norm, y_train, epochs=20, validation_split=0.2, \n",
    "                    callbacks=my_callbacks)"
   ]
  },
  {
   "cell_type": "code",
   "execution_count": 12,
   "metadata": {},
   "outputs": [
    {
     "data": {
      "text/plain": [
       "<matplotlib.legend.Legend at 0x20b87771c10>"
      ]
     },
     "execution_count": 12,
     "metadata": {},
     "output_type": "execute_result"
    },
    {
     "data": {
      "image/png": "[encoded data removed]",
      "text/plain": [
       "<Figure size 432x288 with 1 Axes>"
      ]
     },
     "metadata": {
      "needs_background": "light"
     },
     "output_type": "display_data"
    }
   ],
   "source": [
    "# 對訓練過程的準確度繪圖\n",
    "import matplotlib.pyplot as plt\n",
    "import numpy as np\n",
    "\n",
    "plt.plot(np.arange(1,len(history.history['accuracy'])+1), history.history['accuracy'], 'r', label='accuracy')\n",
    "plt.plot(np.arange(1,len(history.history['accuracy'])+1), history.history['val_accuracy'], 'g', label='val_accuracy')\n",
    "plt.legend()"
   ]
  },
  {
   "cell_type": "markdown",
   "metadata": {},
   "source": [
    "## 改為 val_loss"
   ]
  },
  {
   "cell_type": "code",
   "execution_count": 19,
   "metadata": {},
   "outputs": [],
   "source": [
    "# validation loss 三個執行週期沒改善就停止訓練\n",
    "my_callbacks = [\n",
    "    tf.keras.callbacks.EarlyStopping(patience=3, monitor = 'val_loss'),\n",
    "]"
   ]
  },
  {
   "cell_type": "code",
   "execution_count": 20,
   "metadata": {
    "scrolled": true
   },
   "outputs": [
    {
     "name": "stdout",
     "output_type": "stream",
     "text": [
      "Epoch 1/20\n",
      "1500/1500 [==============================] - 5s 3ms/step - loss: 0.0128 - accuracy: 0.9958 - val_loss: 0.1216 - val_accuracy: 0.9805\n",
      "Epoch 2/20\n",
      "1500/1500 [==============================] - 5s 3ms/step - loss: 0.0092 - accuracy: 0.9970 - val_loss: 0.1249 - val_accuracy: 0.9804\n",
      "Epoch 3/20\n",
      "1500/1500 [==============================] - 5s 3ms/step - loss: 0.0111 - accuracy: 0.9964 - val_loss: 0.1259 - val_accuracy: 0.9790\n",
      "Epoch 4/20\n",
      "1500/1500 [==============================] - 5s 3ms/step - loss: 0.0086 - accuracy: 0.9970 - val_loss: 0.1226 - val_accuracy: 0.9801\n"
     ]
    }
   ],
   "source": [
    "# 訓練 20 次，但實際只訓練 12次就停止了\n",
    "history = model.fit(x_train_norm, y_train, epochs=20, validation_split=0.2, \n",
    "                    callbacks=my_callbacks)"
   ]
  },
  {
   "cell_type": "code",
   "execution_count": 24,
   "metadata": {},
   "outputs": [
    {
     "data": {
      "text/plain": [
       "<matplotlib.legend.Legend at 0x20ba01843a0>"
      ]
     },
     "execution_count": 24,
     "metadata": {},
     "output_type": "execute_result"
    },
    {
     "data": {
      "image/png": "[encoded data removed]",
      "text/plain": [
       "<Figure size 432x288 with 1 Axes>"
      ]
     },
     "metadata": {
      "needs_background": "light"
     },
     "output_type": "display_data"
    }
   ],
   "source": [
    "# 對訓練過程的準確度繪圖\n",
    "import matplotlib.pyplot as plt\n",
    "import numpy as np\n",
    "\n",
    "plt.plot(np.arange(1,len(history.history['loss'])+1), history.history['loss'], 'r', label='loss')\n",
    "plt.plot(np.arange(1,len(history.history['loss'])+1), history.history['val_loss'], 'g', label='val_loss')\n",
    "plt.xticks(ticks=np.arange(1,len(history.history['loss'])+1))\n",
    "plt.legend()"
   ]
  },
  {
   "cell_type": "code",
   "execution_count": 25,
   "metadata": {},
   "outputs": [
    {
     "data": {
      "text/plain": [
       "[0.10199097543954849, 0.9833999872207642]"
      ]
     },
     "execution_count": 25,
     "metadata": {},
     "output_type": "execute_result"
    }
   ],
   "source": [
    "# 評估，打分數\n",
    "score=model.evaluate(x_test_norm, y_test, verbose=0)\n",
    "score"
   ]
  },
  {
   "cell_type": "markdown",
   "metadata": {},
   "source": [
    "## ModelCheckpoint callback"
   ]
  },
  {
   "cell_type": "code",
   "execution_count": 3,
   "metadata": {
    "scrolled": true
   },
   "outputs": [
    {
     "name": "stdout",
     "output_type": "stream",
     "text": [
      "Epoch 1/3\n",
      "1500/1500 [==============================] - 6s 4ms/step - loss: 0.0652 - accuracy: 0.9796 - val_loss: 0.0521 - val_accuracy: 0.9843\n",
      "Epoch 2/3\n",
      "1500/1500 [==============================] - 5s 3ms/step - loss: 0.0520 - accuracy: 0.9835 - val_loss: 0.0502 - val_accuracy: 0.9844\n",
      "Epoch 3/3\n",
      "1500/1500 [==============================] - 5s 3ms/step - loss: 0.0431 - accuracy: 0.9859 - val_loss: 0.0450 - val_accuracy: 0.9863\n"
     ]
    },
    {
     "data": {
      "text/plain": [
       "<tensorflow.python.keras.callbacks.History at 0x1a0b50eba30>"
      ]
     },
     "execution_count": 3,
     "metadata": {},
     "output_type": "execute_result"
    }
   ],
   "source": [
    "# 定義 ModelCheckpoint callback\n",
    "checkpoint_filepath = 'model.{epoch:02d}.h5' # 存檔名稱，可用 f-string 變數\n",
    "model_checkpoint_callback = tf.keras.callbacks.ModelCheckpoint(\n",
    "    filepath=checkpoint_filepath, # 設定存檔名稱\n",
    "    save_weights_only=True,       # 只存權重\n",
    "    monitor='val_accuracy',       # 監看驗證資料的準確率\n",
    "    mode='max',           # 設定save_best_only=True時，best是指 max or min\n",
    "    save_best_only=True)          # 只存最好的模型\n",
    "\n",
    "EPOCHS = 3  # 訓練 3 次\n",
    "model.fit(x_train_norm, y_train, epochs=EPOCHS, validation_split=0.2, \n",
    "          callbacks=[model_checkpoint_callback])"
   ]
  },
  {
   "cell_type": "code",
   "execution_count": 4,
   "metadata": {
    "scrolled": false
   },
   "outputs": [
    {
     "name": "stdout",
     "output_type": "stream",
     "text": [
      "Epoch 1/3\n",
      "1500/1500 [==============================] - 5s 3ms/step - loss: 0.0378 - accuracy: 0.9876 - val_loss: 0.0559 - val_accuracy: 0.9842\n",
      "Epoch 2/3\n",
      "1500/1500 [==============================] - 5s 3ms/step - loss: 0.0316 - accuracy: 0.9892 - val_loss: 0.0580 - val_accuracy: 0.9827\n",
      "Epoch 3/3\n",
      "1500/1500 [==============================] - 5s 3ms/step - loss: 0.0300 - accuracy: 0.9902 - val_loss: 0.0548 - val_accuracy: 0.9837\n"
     ]
    },
    {
     "data": {
      "text/plain": [
       "<tensorflow.python.keras.callbacks.History at 0x1a0ff6d78b0>"
      ]
     },
     "execution_count": 4,
     "metadata": {},
     "output_type": "execute_result"
    }
   ],
   "source": [
    "# 再訓練 3 次，觀察 accuracy，會接續上一次，繼續改善 accuracy。\n",
    "model.fit(x_train_norm, y_train, epochs=EPOCHS, validation_split=0.2,  \n",
    "          callbacks=[model_checkpoint_callback])"
   ]
  },
  {
   "cell_type": "markdown",
   "metadata": {},
   "source": [
    "## TensorBoard callback"
   ]
  },
  {
   "cell_type": "code",
   "execution_count": 2,
   "metadata": {},
   "outputs": [
    {
     "name": "stdout",
     "output_type": "stream",
     "text": [
      "Epoch 1/5\n",
      "1500/1500 [==============================] - 8s 5ms/step - loss: 0.4625 - accuracy: 0.8616 - val_loss: 0.1400 - val_accuracy: 0.9582\n",
      "Epoch 2/5\n",
      "1500/1500 [==============================] - 5s 3ms/step - loss: 0.1356 - accuracy: 0.9598 - val_loss: 0.1104 - val_accuracy: 0.9668\n",
      "Epoch 3/5\n",
      "1500/1500 [==============================] - 5s 3ms/step - loss: 0.0945 - accuracy: 0.9718 - val_loss: 0.0951 - val_accuracy: 0.9733\n",
      "Epoch 4/5\n",
      "1500/1500 [==============================] - 5s 3ms/step - loss: 0.0710 - accuracy: 0.9778 - val_loss: 0.0860 - val_accuracy: 0.9752\n",
      "Epoch 5/5\n",
      "1500/1500 [==============================] - 5s 4ms/step - loss: 0.0544 - accuracy: 0.9828 - val_loss: 0.0815 - val_accuracy: 0.9764\n"
     ]
    }
   ],
   "source": [
    "# 定義 tensorboard callback\n",
    "tensorboard_callback = [tf.keras.callbacks.TensorBoard(log_dir='.\\\\logs', \n",
    "                       histogram_freq=1)]\n",
    "\n",
    "# 訓練 5 次\n",
    "history = model.fit(x_train_norm, y_train, epochs=5, validation_split=0.2,\n",
    "                    callbacks=tensorboard_callback)"
   ]
  },
  {
   "cell_type": "code",
   "execution_count": null,
   "metadata": {},
   "outputs": [],
   "source": [
    "# 載入 TensorBoard notebook extension，即可在 jupyter notebook 啟動 Tensorboard\n",
    "%load_ext tensorboard\n",
    "\n",
    "# 啟動 Tensorboard\n",
    "%tensorboard --logdir ./logs"
   ]
  },
  {
   "cell_type": "code",
   "execution_count": null,
   "metadata": {},
   "outputs": [],
   "source": [
    "# 可同時定義多個Callback事件\n",
    "my_callbacks = [\n",
    "    tf.keras.callbacks.EarlyStopping(patience=3),\n",
    "    tf.keras.callbacks.ModelCheckpoint(filepath='model.{epoch:02d}.h5'),\n",
    "    tf.keras.callbacks.TensorBoard(log_dir='./logs'),\n",
    "]\n",
    "model.fit(x_train_norm, y_train, epochs=10, callbacks=my_callbacks)"
   ]
  }
 ],
 "metadata": {
  "kernelspec": {
   "display_name": "Python 3",
   "language": "python",
   "name": "python3"
  },
  "language_info": {
   "codemirror_mode": {
    "name": "ipython",
    "version": 3
   },
   "file_extension": ".py",
   "mimetype": "text/x-python",
   "name": "python",
   "nbconvert_exporter": "python",
   "pygments_lexer": "ipython3",
   "version": "3.8.3"
  }
 },
 "nbformat": 4,
 "nbformat_minor": 4
}
