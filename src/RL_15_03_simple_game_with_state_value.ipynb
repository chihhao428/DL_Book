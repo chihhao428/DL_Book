{
 "cells": [
  {
   "cell_type": "markdown",
   "metadata": {},
   "source": [
    "## 以狀態值函數大者為行動依據"
   ]
  },
  {
   "cell_type": "code",
   "execution_count": 85,
   "metadata": {},
   "outputs": [],
   "source": [
    "# 載入相關套件\n",
    "import numpy as np\n",
    "import random"
   ]
  },
  {
   "cell_type": "code",
   "execution_count": 86,
   "metadata": {},
   "outputs": [],
   "source": [
    "# 參數設定\n",
    "NODE_COUNT = 15      # 節點數\n",
    "NORMAL_REWARD = -0.2 # 每走一步扣分 0.2"
   ]
  },
  {
   "cell_type": "code",
   "execution_count": 87,
   "metadata": {},
   "outputs": [],
   "source": [
    "# 環境類別\n",
    "class Environment():\n",
    "    # 初始化\n",
    "    def __init__(self):\n",
    "        # 儲存狀態值函數，索引值[0]:不用，從1開始\n",
    "        self.state_value = np.full((NODE_COUNT+1), 0.0)\n",
    "        self.state_value[1]=-1\n",
    "        self.state_value[NODE_COUNT]=1\n",
    "\n",
    "        # 更新次數，索引值[0]:不用，從1開始\n",
    "        self.state_value_count = np.full((NODE_COUNT+1), 0)\n",
    "        self.state_value_count[1]=1\n",
    "        self.state_value_count[NODE_COUNT]=1\n",
    "        \n",
    "    # 初始化\n",
    "    def reset(self):\n",
    "        self.poistion = int((1+NODE_COUNT) / 2)  # 玩家一開始站中間位置\n",
    "        self.trajectory=[] # 行動軌跡\n",
    "\n",
    "    def get_states(self):\n",
    "        # 狀態空間(State Space)，共有5個位置\n",
    "        return [i for i in range(1, 6)]\n",
    "\n",
    "    def get_actions(self):        \n",
    "        return [-1, 1] # 行動空間(Action Space)\n",
    "\n",
    "    def is_done(self): # 判斷比賽回合是否結束\n",
    "        # 是否走到左右端點\n",
    "        if self.poistion == 1 or self.poistion == NODE_COUNT:\n",
    "            self.trajectory.append(self.poistion)   \n",
    "            return True\n",
    "        else:\n",
    "            return False\n",
    "    \n",
    "    # 步驟\n",
    "    def step(self, action):\n",
    "        # 是否回合已結束\n",
    "        if self.is_done():\n",
    "            # 不應該有機會執行到這裡\n",
    "            raise Exception(\"Game is over\")\n",
    "            \n",
    "        self.trajectory.append(self.poistion)        \n",
    "        self.poistion += action\n",
    "        if self.poistion == 1:\n",
    "            reward = -1\n",
    "        elif self.poistion == NODE_COUNT:\n",
    "            reward = 1\n",
    "        else:    \n",
    "            reward = NORMAL_REWARD\n",
    "\n",
    "        return self.poistion, reward\n",
    "\n",
    "    def update_state_value(self, final_value):\n",
    "        # 倒推，更新狀態值函數\n",
    "        for i in range(len(self.trajectory)-1, -1, -1):\n",
    "            final_value += NORMAL_REWARD\n",
    "            self.state_value[self.trajectory[i]] += final_value\n",
    "            self.state_value_count[self.trajectory[i]] += 1\n",
    "                \n",
    "    # 取得狀態值函數期望值\n",
    "    def get_observation(self):\n",
    "        mean1 = np.full((NODE_COUNT+1), 0.0)\n",
    "        for i in range(self.state_value.shape[0]):\n",
    "            if self.state_value_count[i] <= 0.0:\n",
    "                mean1[i] = 0\n",
    "            else:\n",
    "                mean1[i] = self.state_value[i] / self.state_value_count[i]\n",
    "        return mean1"
   ]
  },
  {
   "cell_type": "code",
   "execution_count": 88,
   "metadata": {},
   "outputs": [],
   "source": [
    "# 代理人類別\n",
    "class Agent():\n",
    "    # 初始化\n",
    "    def __init__(self):\n",
    "        pass\n",
    "        \n",
    "    def action(self, env):\n",
    "        # 取得狀態值函數期望值\n",
    "        state_value = env.get_observation()\n",
    "        \n",
    "        # 以左/右節點狀態值函數大者為行動依據，如果兩個狀態值一樣大，隨機選擇一個\n",
    "        if state_value[env.poistion-1] > state_value[env.poistion+1]:  \n",
    "            return -1            \n",
    "        if state_value[env.poistion-1] < state_value[env.poistion+1]:  \n",
    "            return 1            \n",
    "        else:  \n",
    "            return random.choice([-1, 1])            "
   ]
  },
  {
   "cell_type": "code",
   "execution_count": 89,
   "metadata": {},
   "outputs": [
    {
     "name": "stdout",
     "output_type": "stream",
     "text": [
      "trajectory [8, 7, 6, 5, 6, 7, 6, 7, 8, 7, 8, 7, 8, 9, 8, 7, 6, 7, 8, 9, 8, 7, 8, 9, 8, 9, 8, 9, 10, 9, 10, 9, 10, 9, 10, 11, 10, 11, 10, 11, 12, 13, 12, 13, 14, 15]\n",
      "trajectory [8, 9, 10, 11, 12, 13, 14, 15]\n",
      "trajectory [8, 9, 10, 11, 12, 13, 14, 15]\n",
      "trajectory [8, 9, 10, 11, 12, 13, 14, 15]\n",
      "trajectory [8, 9, 10, 11, 12, 13, 14, 15]\n",
      "trajectory [8, 9, 10, 11, 12, 13, 14, 15]\n",
      "trajectory [8, 9, 10, 11, 12, 13, 14, 15]\n",
      "trajectory [8, 9, 10, 11, 12, 13, 14, 15]\n",
      "trajectory [8, 9, 10, 11, 12, 13, 14, 15]\n",
      "trajectory [8, 9, 10, 11, 12, 13, 14, 15]\n",
      "累計報酬: [-7.8, -0.2, -0.2, -0.2, -0.2, -0.2, -0.2, -0.2, -0.2, -0.2]\n"
     ]
    }
   ],
   "source": [
    "# 建立實驗，含環境、代理人物件\n",
    "env = Environment()\n",
    "agent = Agent()\n",
    "\n",
    "# 進行實驗\n",
    "total_reward_list = []\n",
    "for i in range(10):\n",
    "    env.reset()  # 重置\n",
    "    total_reward=0  # 累計報酬\n",
    "    action_count = 0 \n",
    "    while not env.is_done():\n",
    "        # 採取行動\n",
    "        action = agent.action(env)\n",
    "        \n",
    "        # 更新下一步\n",
    "        state, reward = env.step(action)\n",
    "        #print(state, reward)\n",
    "        # 計算累計報酬\n",
    "        total_reward += reward\n",
    "        \n",
    "        action_count += 1\n",
    "        if action_count>=100: # 避免繞圈圈\n",
    "            break\n",
    "    print('trajectory', env.trajectory)\n",
    "    env.update_state_value(total_reward)\n",
    "    total_reward_list.append(round(total_reward, 2))\n",
    "    \n",
    "# 顯示累計報酬\n",
    "print(f\"累計報酬: {total_reward_list}\")"
   ]
  },
  {
   "cell_type": "code",
   "execution_count": 90,
   "metadata": {
    "scrolled": false
   },
   "outputs": [
    {
     "data": {
      "text/plain": [
       "[<matplotlib.lines.Line2D at 0x20e81452ee0>]"
      ]
     },
     "execution_count": 90,
     "metadata": {},
     "output_type": "execute_result"
    },
    {
     "data": {
      "image/png": "[encoded data removed]",
      "text/plain": [
       "<Figure size 720x432 with 1 Axes>"
      ]
     },
     "metadata": {
      "needs_background": "light"
     },
     "output_type": "display_data"
    }
   ],
   "source": [
    "# 繪圖\n",
    "import matplotlib.pyplot as plt\n",
    "\n",
    "plt.figure(figsize=(10,6))\n",
    "plt.plot(total_reward_list)"
   ]
  },
  {
   "cell_type": "code",
   "execution_count": null,
   "metadata": {},
   "outputs": [],
   "source": []
  }
 ],
 "metadata": {
  "kernelspec": {
   "display_name": "Python 3",
   "language": "python",
   "name": "python3"
  },
  "language_info": {
   "codemirror_mode": {
    "name": "ipython",
    "version": 3
   },
   "file_extension": ".py",
   "mimetype": "text/x-python",
   "name": "python",
   "nbconvert_exporter": "python",
   "pygments_lexer": "ipython3",
   "version": "3.8.3"
  }
 },
 "nbformat": 4,
 "nbformat_minor": 4
}
