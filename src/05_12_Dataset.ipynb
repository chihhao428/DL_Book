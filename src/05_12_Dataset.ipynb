{
 "cells": [
  {
   "cell_type": "markdown",
   "metadata": {},
   "source": [
    "# TensorFlow Dataset 測試"
   ]
  },
  {
   "cell_type": "markdown",
   "metadata": {},
   "source": [
    "## 程式參考來源：\n",
    "- https://www.tensorflow.org/guide/data\n",
    "- https://www.tensorflow.org/api_docs/python/tf/data/Dataset\n",
    "- https://www.tensorflow.org/guide/data_performance\n",
    "- https://www.tensorflow.org/tutorials/keras/text_classification"
   ]
  },
  {
   "cell_type": "markdown",
   "metadata": {},
   "source": [
    "## 範例1. 自 list 轉入 Dataset"
   ]
  },
  {
   "cell_type": "code",
   "execution_count": 1,
   "metadata": {},
   "outputs": [],
   "source": [
    "import tensorflow as tf\n",
    "\n",
    "# 自 list 轉入\n",
    "dataset = tf.data.Dataset.from_tensor_slices([8, 3, 0, 8, 2, 1])"
   ]
  },
  {
   "cell_type": "markdown",
   "metadata": {},
   "source": [
    "## 取出所有資料"
   ]
  },
  {
   "cell_type": "code",
   "execution_count": 3,
   "metadata": {},
   "outputs": [
    {
     "name": "stdout",
     "output_type": "stream",
     "text": [
      "8\n",
      "3\n",
      "0\n",
      "8\n",
      "2\n",
      "1\n"
     ]
    }
   ],
   "source": [
    "# 使用 for 迴圈可自 Dataset 取出所有資料\n",
    "for elem in dataset:\n",
    "    print(elem.numpy())"
   ]
  },
  {
   "cell_type": "markdown",
   "metadata": {},
   "source": [
    "## 取出所有資料"
   ]
  },
  {
   "cell_type": "code",
   "execution_count": 3,
   "metadata": {},
   "outputs": [
    {
     "name": "stdout",
     "output_type": "stream",
     "text": [
      "8\n",
      "3\n"
     ]
    }
   ],
   "source": [
    "# 轉成 iterator\n",
    "it = iter(dataset)\n",
    "\n",
    "# 一次取一筆\n",
    "print(next(it).numpy())\n",
    "print(next(it).numpy())"
   ]
  },
  {
   "cell_type": "markdown",
   "metadata": {},
   "source": [
    "## 範例2. 依照維度小計(reduce)"
   ]
  },
  {
   "cell_type": "code",
   "execution_count": 17,
   "metadata": {},
   "outputs": [
    {
     "name": "stdout",
     "output_type": "stream",
     "text": [
      "15\n"
     ]
    }
   ],
   "source": [
    "# 依照維度小計(reduce)\n",
    "import numpy as np\n",
    "\n",
    "# 一維資料\n",
    "ds = tf.data.Dataset.from_tensor_slices([1, 2, 3, 4, 5]) \n",
    "\n",
    "initial_state=0    # 起始值\n",
    "print(ds.reduce(initial_state, lambda state, value: state + value).numpy()) "
   ]
  },
  {
   "cell_type": "code",
   "execution_count": 18,
   "metadata": {},
   "outputs": [
    {
     "name": "stdout",
     "output_type": "stream",
     "text": [
      "[ 7  9 11 13 15]\n"
     ]
    }
   ],
   "source": [
    "# 依照第一維度小計(reduce)\n",
    "import numpy as np\n",
    "\n",
    "# 二維資料\n",
    "ds = tf.data.Dataset.from_tensor_slices(np.arange(1,11).reshape(2,5)) \n",
    "\n",
    "initial_state=0    # 起始值\n",
    "print(ds.reduce(initial_state, lambda state, value: state + value).numpy()) "
   ]
  },
  {
   "cell_type": "code",
   "execution_count": 21,
   "metadata": {
    "scrolled": true
   },
   "outputs": [
    {
     "name": "stdout",
     "output_type": "stream",
     "text": [
      "原始資料:\n",
      " [[[ 1  2  3]\n",
      "  [ 4  5  6]]\n",
      "\n",
      " [[ 7  8  9]\n",
      "  [10 11 12]]] \n",
      "\n",
      "計算結果:\n",
      " [[ 8 10 12]\n",
      " [14 16 18]]\n"
     ]
    }
   ],
   "source": [
    "# 依照第一維度小計(reduce)\n",
    "import numpy as np\n",
    "\n",
    "# 三維資料\n",
    "ds = tf.data.Dataset.from_tensor_slices(np.arange(1,13).reshape(2,2,3)) \n",
    "\n",
    "print('原始資料:\\n', np.arange(1,13).reshape(2,2,3), '\\n')\n",
    "\n",
    "initial_state=0    # 起始值\n",
    "print('計算結果:\\n', ds.reduce(initial_state, lambda state, value: state + value).numpy()) "
   ]
  },
  {
   "cell_type": "markdown",
   "metadata": {},
   "source": [
    "## 範例3. 對每個元素應用函數(map)"
   ]
  },
  {
   "cell_type": "code",
   "execution_count": 33,
   "metadata": {},
   "outputs": [
    {
     "name": "stdout",
     "output_type": "stream",
     "text": [
      "[2, 4, 6, 8, 10]\n"
     ]
    }
   ],
   "source": [
    "# 對每個元素應用函數(map)\n",
    "import numpy as np\n",
    "\n",
    "# 測試資料\n",
    "ds = tf.data.Dataset.from_tensor_slices([1, 2, 3, 4, 5]) \n",
    "\n",
    "# 對每個元素應用函數(map)\n",
    "ds = ds.map(lambda x: x * 2)\n",
    "\n",
    "# 轉成 iterator，再顯示\n",
    "print(list(ds.as_numpy_iterator())) "
   ]
  },
  {
   "cell_type": "markdown",
   "metadata": {},
   "source": [
    "## 範例4. 過濾(filter)"
   ]
  },
  {
   "cell_type": "code",
   "execution_count": 34,
   "metadata": {},
   "outputs": [
    {
     "name": "stdout",
     "output_type": "stream",
     "text": [
      "[2, 4]\n"
     ]
    }
   ],
   "source": [
    "# 過濾(filter)\n",
    "import numpy as np\n",
    "\n",
    "# 測試資料\n",
    "ds = tf.data.Dataset.from_tensor_slices([1, 2, 3, 4, 5]) \n",
    "\n",
    "# 對每個元素應用函數(map)\n",
    "ds = ds.filter(lambda x: x % 2 == 0)\n",
    "\n",
    "# 轉成 iterator，再顯示\n",
    "print(list(ds.as_numpy_iterator())) "
   ]
  },
  {
   "cell_type": "markdown",
   "metadata": {},
   "source": [
    "## 範例 5. 資料複製(repeat)"
   ]
  },
  {
   "cell_type": "code",
   "execution_count": 25,
   "metadata": {},
   "outputs": [
    {
     "name": "stdout",
     "output_type": "stream",
     "text": [
      "[1, 2, 3, 4, 5, 1, 2, 3, 4, 5, 1, 2, 3, 4, 5]\n"
     ]
    }
   ],
   "source": [
    "# 資料複製(repeat)\n",
    "import numpy as np\n",
    "\n",
    "# 測試資料\n",
    "ds = tf.data.Dataset.from_tensor_slices([1, 2, 3, 4, 5]) \n",
    "\n",
    "# 重複 3 次\n",
    "ds = ds.repeat(3)\n",
    "\n",
    "# 轉成 iterator，再顯示\n",
    "print(list(ds.as_numpy_iterator())) "
   ]
  },
  {
   "cell_type": "markdown",
   "metadata": {},
   "source": [
    "## 範例6. Dataset分片(Shard)：將資料依固定間隔取樣"
   ]
  },
  {
   "cell_type": "code",
   "execution_count": 30,
   "metadata": {},
   "outputs": [
    {
     "name": "stdout",
     "output_type": "stream",
     "text": [
      "原始資料:\n",
      " [0, 1, 2, 3, 4, 5, 6, 7, 8, 9, 10]\n",
      "\n",
      "計算結果:\n",
      " [0, 3, 6, 9]\n"
     ]
    }
   ],
   "source": [
    "# 分片(Shard)\n",
    "import numpy as np\n",
    "\n",
    "# 測試資料：0~10\n",
    "ds = tf.data.Dataset.range(11)\n",
    "print('原始資料:\\n', list(ds.as_numpy_iterator())) \n",
    "\n",
    "# 每 3 筆間隔取樣一筆，從第一筆開始\n",
    "ds = ds.shard(num_shards=3, index=0)\n",
    "\n",
    "# 轉成 iterator，再顯示\n",
    "print('\\n計算結果:\\n', list(ds.as_numpy_iterator())) "
   ]
  },
  {
   "cell_type": "markdown",
   "metadata": {},
   "source": [
    "## 範例7. 將MNIST資料轉入Dataset"
   ]
  },
  {
   "cell_type": "code",
   "execution_count": 4,
   "metadata": {},
   "outputs": [
    {
     "name": "stdout",
     "output_type": "stream",
     "text": [
      "<TensorSliceDataset shapes: ((28, 28), ()), types: (tf.float64, tf.uint8)>\n"
     ]
    }
   ],
   "source": [
    "import tensorflow as tf\n",
    "\n",
    "mnist = tf.keras.datasets.mnist\n",
    "\n",
    "# 載入 MNIST 手寫阿拉伯數字資料\n",
    "(x_train, y_train),(x_test, y_test) = mnist.load_data()\n",
    "\n",
    "# 特徵縮放，使用常態化(Normalization)，公式 = (x - min) / (max - min)\n",
    "x_train_norm, x_test_norm = x_train / 255.0, x_test / 255.0\n",
    "\n",
    "# 轉為 Dataset，含 X/Y 資料\n",
    "dataset = tf.data.Dataset.from_tensor_slices((x_train_norm, y_train))\n",
    "print(dataset)"
   ]
  },
  {
   "cell_type": "markdown",
   "metadata": {},
   "source": [
    "## 逐批取資料"
   ]
  },
  {
   "cell_type": "code",
   "execution_count": 5,
   "metadata": {
    "scrolled": true
   },
   "outputs": [
    {
     "name": "stdout",
     "output_type": "stream",
     "text": [
      "(1000, 28, 28)\n",
      "tf.Tensor(\n",
      "[[0.         0.         0.         0.         0.         0.\n",
      "  0.         0.         0.         0.         0.         0.\n",
      "  0.         0.         0.         0.         0.         0.\n",
      "  0.         0.         0.         0.         0.         0.\n",
      "  0.         0.         0.         0.        ]\n",
      " [0.         0.         0.         0.         0.         0.\n",
      "  0.         0.         0.         0.         0.         0.\n",
      "  0.         0.         0.         0.         0.         0.\n",
      "  0.         0.         0.         0.         0.         0.\n",
      "  0.         0.         0.         0.        ]\n",
      " [0.         0.         0.         0.         0.         0.\n",
      "  0.         0.         0.         0.         0.         0.\n",
      "  0.         0.         0.         0.         0.         0.\n",
      "  0.         0.         0.         0.         0.         0.\n",
      "  0.         0.         0.         0.        ]\n",
      " [0.         0.         0.         0.         0.         0.\n",
      "  0.         0.         0.         0.         0.         0.\n",
      "  0.         0.         0.         0.         0.         0.\n",
      "  0.         0.         0.         0.         0.         0.\n",
      "  0.         0.         0.         0.        ]\n",
      " [0.         0.         0.         0.         0.         0.\n",
      "  0.         0.         0.         0.         0.         0.\n",
      "  0.         0.         0.         0.         0.         0.\n",
      "  0.         0.         0.         0.         0.         0.\n",
      "  0.         0.         0.         0.        ]\n",
      " [0.         0.         0.         0.         0.         0.\n",
      "  0.         0.         0.         0.         0.         0.\n",
      "  0.         0.3372549  0.60784314 0.78431373 0.89019608 0.64313725\n",
      "  0.72156863 0.4        0.14117647 0.         0.         0.\n",
      "  0.         0.         0.         0.        ]\n",
      " [0.         0.         0.         0.         0.         0.\n",
      "  0.         0.         0.         0.         0.         0.\n",
      "  0.         0.78823529 0.99215686 0.99215686 0.99215686 0.99215686\n",
      "  0.99215686 0.99215686 0.93333333 0.59607843 0.10980392 0.\n",
      "  0.         0.         0.         0.        ]\n",
      " [0.         0.         0.         0.         0.         0.\n",
      "  0.         0.         0.         0.         0.         0.\n",
      "  0.         0.30980392 0.7372549  0.71764706 0.60784314 0.7372549\n",
      "  0.7372549  0.8745098  0.99215686 0.99215686 0.85490196 0.\n",
      "  0.         0.         0.         0.        ]\n",
      " [0.         0.         0.         0.         0.         0.\n",
      "  0.         0.         0.         0.         0.         0.\n",
      "  0.         0.         0.         0.         0.         0.\n",
      "  0.         0.16862745 0.89411765 0.99215686 0.99215686 0.\n",
      "  0.         0.         0.         0.        ]\n",
      " [0.         0.         0.         0.         0.         0.\n",
      "  0.         0.         0.         0.         0.         0.\n",
      "  0.         0.         0.         0.         0.         0.03137255\n",
      "  0.41960784 0.84705882 0.99215686 0.99215686 0.60784314 0.\n",
      "  0.         0.         0.         0.        ]\n",
      " [0.         0.         0.         0.         0.         0.\n",
      "  0.         0.         0.         0.         0.         0.\n",
      "  0.         0.         0.03137255 0.14117647 0.50588235 0.8627451\n",
      "  0.99215686 0.99215686 0.95294118 0.7372549  0.02352941 0.\n",
      "  0.         0.         0.         0.        ]\n",
      " [0.         0.         0.         0.         0.         0.\n",
      "  0.         0.         0.         0.         0.         0.\n",
      "  0.06666667 0.34117647 0.78823529 0.99215686 0.99215686 0.99215686\n",
      "  0.99215686 0.68627451 0.2745098  0.         0.         0.\n",
      "  0.         0.         0.         0.        ]\n",
      " [0.         0.         0.         0.         0.         0.\n",
      "  0.         0.38039216 0.54509804 0.54509804 0.76470588 0.9372549\n",
      "  0.94901961 0.99215686 0.99215686 0.99215686 0.89019608 0.49411765\n",
      "  0.17254902 0.00784314 0.         0.         0.         0.\n",
      "  0.         0.         0.         0.        ]\n",
      " [0.         0.         0.         0.         0.         0.\n",
      "  0.03137255 0.80784314 0.99215686 0.99215686 0.99215686 0.99215686\n",
      "  0.99215686 0.99215686 0.99215686 0.99215686 0.72941176 0.19215686\n",
      "  0.         0.         0.         0.         0.         0.\n",
      "  0.         0.         0.         0.        ]\n",
      " [0.         0.         0.         0.         0.         0.\n",
      "  0.         0.4        0.81960784 0.85098039 0.79607843 0.79607843\n",
      "  0.91372549 0.99215686 0.99215686 0.99215686 0.99215686 0.94901961\n",
      "  0.17254902 0.         0.         0.         0.         0.\n",
      "  0.         0.         0.         0.        ]\n",
      " [0.         0.         0.         0.         0.         0.\n",
      "  0.         0.         0.02352941 0.05490196 0.         0.\n",
      "  0.11372549 0.19215686 0.19215686 0.21568627 0.85882353 0.99215686\n",
      "  0.45490196 0.         0.         0.         0.         0.\n",
      "  0.         0.         0.         0.        ]\n",
      " [0.         0.         0.         0.         0.         0.\n",
      "  0.         0.         0.         0.         0.         0.\n",
      "  0.         0.         0.         0.01568627 0.74117647 0.99215686\n",
      "  0.67843137 0.         0.         0.         0.         0.\n",
      "  0.         0.         0.         0.        ]\n",
      " [0.         0.         0.         0.         0.         0.\n",
      "  0.         0.         0.         0.         0.         0.\n",
      "  0.         0.         0.01568627 0.27058824 0.99215686 0.99215686\n",
      "  0.35294118 0.         0.         0.         0.         0.\n",
      "  0.         0.         0.         0.        ]\n",
      " [0.         0.         0.         0.         0.         0.\n",
      "  0.         0.         0.         0.         0.         0.\n",
      "  0.         0.00784314 0.59607843 0.99215686 0.99215686 0.81960784\n",
      "  0.09803922 0.         0.         0.         0.         0.\n",
      "  0.         0.         0.         0.        ]\n",
      " [0.         0.         0.         0.         0.         0.\n",
      "  0.         0.         0.         0.         0.         0.\n",
      "  0.1372549  0.65098039 0.99215686 0.99215686 0.81960784 0.10588235\n",
      "  0.         0.         0.         0.         0.         0.\n",
      "  0.         0.         0.         0.        ]\n",
      " [0.         0.         0.         0.         0.         0.\n",
      "  0.         0.         0.         0.         0.17647059 0.61176471\n",
      "  0.8745098  0.99215686 0.99215686 0.82745098 0.09803922 0.\n",
      "  0.         0.         0.         0.         0.         0.\n",
      "  0.         0.         0.         0.        ]\n",
      " [0.         0.         0.         0.         0.         0.\n",
      "  0.         0.09803922 0.34117647 0.65882353 0.96078431 0.99215686\n",
      "  0.99215686 0.9372549  0.51764706 0.04313725 0.         0.\n",
      "  0.         0.         0.         0.         0.         0.\n",
      "  0.         0.         0.         0.        ]\n",
      " [0.         0.         0.         0.35686275 0.50588235 0.35294118\n",
      "  0.69019608 0.91764706 0.99215686 0.99215686 0.99215686 0.8627451\n",
      "  0.41176471 0.14901961 0.         0.         0.         0.\n",
      "  0.         0.         0.         0.         0.         0.\n",
      "  0.         0.         0.         0.        ]\n",
      " [0.         0.         0.         1.         0.99215686 0.99215686\n",
      "  0.99215686 0.94117647 0.77254902 0.42745098 0.21176471 0.02352941\n",
      "  0.         0.         0.         0.         0.         0.\n",
      "  0.         0.         0.         0.         0.         0.\n",
      "  0.         0.         0.         0.        ]\n",
      " [0.         0.         0.         0.45490196 0.6        0.6\n",
      "  0.41960784 0.15294118 0.         0.         0.         0.\n",
      "  0.         0.         0.         0.         0.         0.\n",
      "  0.         0.         0.         0.         0.         0.\n",
      "  0.         0.         0.         0.        ]\n",
      " [0.         0.         0.         0.         0.         0.\n",
      "  0.         0.         0.         0.         0.         0.\n",
      "  0.         0.         0.         0.         0.         0.\n",
      "  0.         0.         0.         0.         0.         0.\n",
      "  0.         0.         0.         0.        ]\n",
      " [0.         0.         0.         0.         0.         0.\n",
      "  0.         0.         0.         0.         0.         0.\n",
      "  0.         0.         0.         0.         0.         0.\n",
      "  0.         0.         0.         0.         0.         0.\n",
      "  0.         0.         0.         0.        ]\n",
      " [0.         0.         0.         0.         0.         0.\n",
      "  0.         0.         0.         0.         0.         0.\n",
      "  0.         0.         0.         0.         0.         0.\n",
      "  0.         0.         0.         0.         0.         0.\n",
      "  0.         0.         0.         0.        ]], shape=(28, 28), dtype=float64)\n"
     ]
    },
    {
     "name": "stdout",
     "output_type": "stream",
     "text": [
      "60\n"
     ]
    }
   ],
   "source": [
    "# 每次隨機抽出 1000 筆\n",
    "# shuffle：每次從 60000 筆訓練資料取出 10000 筆洗牌，batch：隨機抽出 1000 筆\n",
    "train_dataset = dataset.shuffle(10000).batch(1000)\n",
    "i=0\n",
    "for (x_train, y_train) in train_dataset:\n",
    "    if i == 0:\n",
    "        print(x_train.shape)\n",
    "        print(x_train[0])\n",
    "        \n",
    "    i+=1\n",
    "print(i)"
   ]
  },
  {
   "cell_type": "markdown",
   "metadata": {},
   "source": [
    "## 範例8. 自隨機亂數產生 Dataset"
   ]
  },
  {
   "cell_type": "code",
   "execution_count": 36,
   "metadata": {},
   "outputs": [
    {
     "name": "stdout",
     "output_type": "stream",
     "text": [
      "[array([1, 9, 1, 1, 6, 7, 5, 9, 8, 5]), array([3, 8, 1, 3, 9, 7, 1, 2, 3, 6]), array([4, 1, 5, 4, 1, 8, 5, 7, 7, 9]), array([1, 2, 7, 4, 4, 5, 2, 7, 3, 3])]\n"
     ]
    }
   ],
   "source": [
    "import tensorflow as tf\n",
    "\n",
    "# 隨機亂數產生 Dataset\n",
    "ds = tf.data.Dataset.from_tensor_slices(\n",
    "    tf.random.uniform([4, 10], minval=1, maxval=10, dtype=tf.int32))\n",
    "\n",
    "# 轉成 iterator，再顯示\n",
    "print(list(ds.as_numpy_iterator())) "
   ]
  },
  {
   "cell_type": "markdown",
   "metadata": {},
   "source": [
    "## 範例9. 自Tensorflow Tensor資料型態的變數轉入 Dataset"
   ]
  },
  {
   "cell_type": "code",
   "execution_count": 44,
   "metadata": {},
   "outputs": [
    {
     "name": "stdout",
     "output_type": "stream",
     "text": [
      "[[1 0 0 0]\n",
      " [0 0 2 0]\n",
      " [0 0 0 0]]\n"
     ]
    }
   ],
   "source": [
    "import tensorflow as tf\n",
    "\n",
    "# 稀疏矩陣\n",
    "mat = tf.SparseTensor(indices=[[0, 0], [1, 2]], values=[1, 2], \n",
    "                      dense_shape=[3, 4])\n",
    "\n",
    "# 轉入 Dataset\n",
    "ds = tf.data.Dataset.from_tensors(mat)\n",
    "\n",
    "# 使用迴圈自 Dataset 取出所有資料\n",
    "for elem in ds:\n",
    "    print(tf.sparse.to_dense(elem).numpy()) "
   ]
  },
  {
   "cell_type": "markdown",
   "metadata": {},
   "source": [
    "## 範例10. 自Python Generator資料型態的變數轉入Dataset\n",
    "#### 程式修改自 https://yann-leguilly.gitlab.io/post/2019-10-09-tensorflow-tfdata/"
   ]
  },
  {
   "cell_type": "code",
   "execution_count": 112,
   "metadata": {},
   "outputs": [],
   "source": [
    "# 從網路取得壓縮檔，並解壓縮\n",
    "flowers = tf.keras.utils.get_file(\n",
    "    'flower_photos',\n",
    "    'https://storage.googleapis.com/download.tensorflow.org/example_images/flower_photos.tgz',\n",
    "    untar=True)\n",
    "\n",
    "# 定義參數\n",
    "BATCH_SIZE = 32 # 批量\n",
    "IMG_DIM = 224   # 影像寬度\n",
    "NB_CLASSES = 5  # label 類別數\n",
    "\n",
    "# 資料增補，rescale：特徵縮放， rotation_range：自動增補旋轉20度內的圖片\n",
    "img_gen = tf.keras.preprocessing.image.ImageDataGenerator(rescale=1./255, rotation_range=20)"
   ]
  },
  {
   "cell_type": "code",
   "execution_count": 113,
   "metadata": {},
   "outputs": [
    {
     "name": "stdout",
     "output_type": "stream",
     "text": [
      "Found 3670 images belonging to 5 classes.\n",
      "labels: [0. 1. 0. 0. 0.]\n"
     ]
    },
    {
     "data": {
      "image/png": "[encoded data removed]",
      "text/plain": [
       "<Figure size 432x288 with 1 Axes>"
      ]
     },
     "metadata": {
      "needs_background": "light"
     },
     "output_type": "display_data"
    }
   ],
   "source": [
    "# 取一批檔案\n",
    "images, labels = next(img_gen.flow_from_directory(flowers))\n",
    "\n",
    "# 顯示第一筆影像\n",
    "import matplotlib.pyplot as plt\n",
    "plt.imshow(images[0])\n",
    "plt.axis('off')\n",
    "print('labels:', labels[0])"
   ]
  },
  {
   "cell_type": "code",
   "execution_count": null,
   "metadata": {},
   "outputs": [],
   "source": [
    "# 定義 generator 的屬性：取出資料的邏輯\n",
    "gen = img_gen.flow_from_directory(\n",
    "    flowers,\n",
    "    (IMG_DIM, IMG_DIM),\n",
    "    'rgb',\n",
    "    class_mode='categorical',\n",
    "    batch_size=BATCH_SIZE,\n",
    "    shuffle=False\n",
    ")\n",
    "\n",
    "# 轉入 Dataset\n",
    "ds = tf.data.Dataset.from_generator(lambda: gen,\n",
    "    output_signature=(\n",
    "         tf.TensorSpec(shape=(BATCH_SIZE, IMG_DIM, IMG_DIM, 3)),\n",
    "         tf.TensorSpec(shape=(BATCH_SIZE, NB_CLASSES))\n",
    "                     )\n",
    "    )"
   ]
  },
  {
   "cell_type": "code",
   "execution_count": 127,
   "metadata": {},
   "outputs": [
    {
     "name": "stdout",
     "output_type": "stream",
     "text": [
      "(32, 224, 224, 3) (32, 5)\n"
     ]
    }
   ],
   "source": [
    "# 取下一批資料\n",
    "it = iter(ds)\n",
    "images, label = next(it)\n",
    "print(np.array(images).shape, np.array(label).shape)"
   ]
  },
  {
   "cell_type": "code",
   "execution_count": null,
   "metadata": {},
   "outputs": [],
   "source": []
  }
 ],
 "metadata": {
  "kernelspec": {
   "display_name": "Python 3",
   "language": "python",
   "name": "python3"
  },
  "language_info": {
   "codemirror_mode": {
    "name": "ipython",
    "version": 3
   },
   "file_extension": ".py",
   "mimetype": "text/x-python",
   "name": "python",
   "nbconvert_exporter": "python",
   "pygments_lexer": "ipython3",
   "version": "3.8.3"
  }
 },
 "nbformat": 4,
 "nbformat_minor": 4
}
