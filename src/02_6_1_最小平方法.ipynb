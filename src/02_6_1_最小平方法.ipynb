{
 "cells": [
  {
   "cell_type": "markdown",
   "metadata": {},
   "source": [
    "## 聯立方程式"
   ]
  },
  {
   "cell_type": "code",
   "execution_count": 8,
   "metadata": {},
   "outputs": [
    {
     "name": "stdout",
     "output_type": "stream",
     "text": [
      "[[5.]\n",
      " [2.]]\n"
     ]
    }
   ],
   "source": [
    "import numpy as np\n",
    "\n",
    "A = np.array([[2,4],\n",
    "              [6,2]])\n",
    "\n",
    "B = np.array([[18],\n",
    "              [34]])\n",
    "\n",
    "C = np.linalg.solve(A, B)\n",
    "\n",
    "print(C)"
   ]
  },
  {
   "cell_type": "code",
   "execution_count": 9,
   "metadata": {},
   "outputs": [
    {
     "data": {
      "text/plain": [
       "array([[5.],\n",
       "       [2.]])"
      ]
     },
     "execution_count": 9,
     "metadata": {},
     "output_type": "execute_result"
    }
   ],
   "source": [
    "np.linalg.inv(A.T @ A) @ A.T @ B"
   ]
  },
  {
   "cell_type": "markdown",
   "metadata": {},
   "source": [
    "## 範例1. 以最小平方法(OLS)建立線性迴歸模型，預測波士頓(Boston)房價"
   ]
  },
  {
   "cell_type": "code",
   "execution_count": 2,
   "metadata": {},
   "outputs": [
    {
     "name": "stdout",
     "output_type": "stream",
     "text": [
      "W=[-1.08011358e-01  4.64204584e-02  2.05586264e-02  2.68673382e+00\n",
      " -1.77666112e+01  3.80986521e+00  6.92224640e-04 -1.47556685e+00\n",
      "  3.06049479e-01 -1.23345939e-02 -9.52747232e-01  9.31168327e-03\n",
      " -5.24758378e-01  3.64594884e+01]\n"
     ]
    }
   ],
   "source": [
    "# 載入套件\n",
    "import numpy as np\n",
    "import matplotlib.pyplot as plt \n",
    "import pandas as pd  \n",
    "import seaborn as sns \n",
    "from sklearn import datasets\n",
    "\n",
    "# 載入 sklearn 內建資料集\n",
    "ds = datasets.load_boston()\n",
    "\n",
    "# 特徵變數\n",
    "X=ds.data\n",
    "\n",
    "# b = b * x^0\n",
    "b=np.ones((X.shape[0], 1))\n",
    "\n",
    "# 將 b 併入 w\n",
    "X=np.hstack((X, b))\n",
    "\n",
    "# 目標變數\n",
    "y = ds.target\n",
    "\n",
    "# 以公式求解\n",
    "W = np.linalg.inv(X.T @ X) @ X.T @ y\n",
    "print(f'W={W}')"
   ]
  },
  {
   "cell_type": "code",
   "execution_count": 8,
   "metadata": {},
   "outputs": [
    {
     "name": "stdout",
     "output_type": "stream",
     "text": [
      "MSE=21.8948311817292\n",
      "RMSE=4.679191295697281\n",
      "R2=0.7406426641094095\n"
     ]
    }
   ],
   "source": [
    "# 計算效能衡量指標\n",
    "SSE = ((X @ W - y ) ** 2).sum() \n",
    "MSE = SSE / y.shape[0]\n",
    "RMSE = MSE ** (1/2)\n",
    "print(f'MSE={MSE}')\n",
    "print(f'RMSE={RMSE}')\n",
    "\n",
    "# 計算判別係數(R^2)\n",
    "y_mean = y.ravel().mean()\n",
    "SST = ((y - y_mean) ** 2).sum()\n",
    "R2 = 1 - (SSE / SST)\n",
    "print(f'R2={R2}')"
   ]
  },
  {
   "cell_type": "markdown",
   "metadata": {},
   "source": [
    "## 以 sklearn 驗證"
   ]
  },
  {
   "cell_type": "code",
   "execution_count": 12,
   "metadata": {},
   "outputs": [
    {
     "name": "stdout",
     "output_type": "stream",
     "text": [
      "W=[-1.08011358e-01  4.64204584e-02  2.05586264e-02  2.68673382e+00\n",
      " -1.77666112e+01  3.80986521e+00  6.92224640e-04 -1.47556685e+00\n",
      "  3.06049479e-01 -1.23345939e-02 -9.52747232e-01  9.31168327e-03\n",
      " -5.24758378e-01  0.00000000e+00],36.45948838509001\n",
      "\n",
      "MSE=21.894831181729206\n",
      "RMSE=4.679191295697282\n",
      "R2=0.7406426641094094\n"
     ]
    }
   ],
   "source": [
    "from sklearn.linear_model import LinearRegression\n",
    "from sklearn.metrics import r2_score, mean_squared_error\n",
    "\n",
    "# 模型訓練\n",
    "lr = LinearRegression()\n",
    "lr.fit(X, y)\n",
    "\n",
    "# 預測\n",
    "y_pred = lr.predict(X)\n",
    "\n",
    "# 迴歸係數\n",
    "print(f'W={lr.coef_},{lr.intercept_}\\n')\n",
    "\n",
    "# 計算效能衡量指標\n",
    "print(f'MSE={mean_squared_error(y, y_pred)}')\n",
    "print(f'RMSE={mean_squared_error(y, y_pred) ** .5}')\n",
    "print(f'R2={r2_score(y, y_pred)}')"
   ]
  },
  {
   "cell_type": "markdown",
   "metadata": {},
   "source": [
    "## 使用 SciPy 以最小平方法(OLS) 計算函數的最小值"
   ]
  },
  {
   "cell_type": "code",
   "execution_count": 32,
   "metadata": {},
   "outputs": [
    {
     "data": {
      "text/plain": [
       "<matplotlib.collections.PathCollection at 0x2965bdee340>"
      ]
     },
     "execution_count": 32,
     "metadata": {},
     "output_type": "execute_result"
    },
    {
     "data": {
      "image/png": "[encoded data removed]",
      "text/plain": [
       "<Figure size 432x288 with 1 Axes>"
      ]
     },
     "metadata": {
      "needs_background": "light"
     },
     "output_type": "display_data"
    }
   ],
   "source": [
    "# 函數繪圖\n",
    "import numpy as np\n",
    "import matplotlib.pyplot as plt\n",
    "from scipy.optimize import leastsq\n",
    "\n",
    "x=np.linspace(-5, 5, 11)\n",
    "# x^2+5\n",
    "def f(x):\n",
    "    return x**2+5\n",
    "\n",
    "# 繪座標軸\n",
    "plt.axhline()\n",
    "plt.axvline()\n",
    "# 繪圖\n",
    "plt.plot(x, f(x), 'g')\n",
    "plt.scatter([0],[5], color='r')"
   ]
  },
  {
   "cell_type": "code",
   "execution_count": 27,
   "metadata": {},
   "outputs": [
    {
     "data": {
      "text/plain": [
       "(array([1.72892379e-05]),\n",
       " None,\n",
       " {'fvec': array([5.]),\n",
       "  'nfev': 22,\n",
       "  'fjac': array([[-0.]]),\n",
       "  'ipvt': array([1], dtype=int32),\n",
       "  'qtf': array([5.])},\n",
       " 'The cosine of the angle between func(x) and any column of the\\n  Jacobian is at most 0.000000 in absolute value',\n",
       " 4)"
      ]
     },
     "execution_count": 27,
     "metadata": {},
     "output_type": "execute_result"
    }
   ],
   "source": [
    "import numpy as np\n",
    "from scipy.optimize import leastsq\n",
    "\n",
    "# x^2+5\n",
    "def f(x):\n",
    "    return x**2+5\n",
    "\n",
    "# 最小平方法\n",
    "leastsq(f, 5, full_output=1) # full_output=1 ==> 顯示詳盡的結果"
   ]
  },
  {
   "cell_type": "code",
   "execution_count": 24,
   "metadata": {},
   "outputs": [
    {
     "data": {
      "text/plain": [
       "(array([0.]),\n",
       " array([[1.]]),\n",
       " {'fvec': array([0.]),\n",
       "  'nfev': 67,\n",
       "  'fjac': array([[-1.]]),\n",
       "  'ipvt': array([1], dtype=int32),\n",
       "  'qtf': array([0.])},\n",
       " 'The cosine of the angle between func(x) and any column of the\\n  Jacobian is at most 0.000000 in absolute value',\n",
       " 4)"
      ]
     },
     "execution_count": 24,
     "metadata": {},
     "output_type": "execute_result"
    }
   ],
   "source": [
    "def f(x):\n",
    "    return np.arctan(x) - np.arctan(np.linspace(0, 1, len(x)))\n",
    "\n",
    "# 最小平方法\n",
    "leastsq(f, 10, full_output=1) # full_output=1 ==> 顯示詳盡的結果 "
   ]
  },
  {
   "cell_type": "markdown",
   "metadata": {},
   "source": [
    "## 使用 SciPy 其他優化方法計算函數的最小值"
   ]
  },
  {
   "cell_type": "code",
   "execution_count": 36,
   "metadata": {},
   "outputs": [
    {
     "data": {
      "text/plain": [
       "(1.147310308261937e-08, 5.0, 37, 41)"
      ]
     },
     "execution_count": 36,
     "metadata": {},
     "output_type": "execute_result"
    }
   ],
   "source": [
    "import numpy as np\n",
    "from scipy import optimize\n",
    "\n",
    "# x^2+5\n",
    "def f(x):\n",
    "    return (x**2)+5\n",
    "\n",
    "# 最小平方法\n",
    "x_min = optimize.brent(f, full_output=1)  \n",
    "x_min"
   ]
  },
  {
   "cell_type": "code",
   "execution_count": null,
   "metadata": {},
   "outputs": [],
   "source": []
  }
 ],
 "metadata": {
  "kernelspec": {
   "display_name": "Python 3",
   "language": "python",
   "name": "python3"
  },
  "language_info": {
   "codemirror_mode": {
    "name": "ipython",
    "version": 3
   },
   "file_extension": ".py",
   "mimetype": "text/x-python",
   "name": "python",
   "nbconvert_exporter": "python",
   "pygments_lexer": "ipython3",
   "version": "3.8.3"
  }
 },
 "nbformat": 4,
 "nbformat_minor": 2
}
