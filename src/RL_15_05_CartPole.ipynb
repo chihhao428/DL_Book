{
 "cells": [
  {
   "cell_type": "code",
   "execution_count": 12,
   "metadata": {},
   "outputs": [],
   "source": [
    "# 載入相關套件\n",
    "import gym\n",
    "from gym import envs"
   ]
  },
  {
   "cell_type": "markdown",
   "metadata": {},
   "source": [
    "## 隨機行動"
   ]
  },
  {
   "cell_type": "code",
   "execution_count": 13,
   "metadata": {},
   "outputs": [],
   "source": [
    "# 參數設定\n",
    "no = 50        # 比賽回合數\n",
    "\n",
    "# 載入 木棒台車(CartPole) 遊戲\n",
    "env = gym.make(\"CartPole-v0\")\n",
    "\n",
    "# 重置\n",
    "observation = env.reset()\n",
    "all_rewards=[] # 每回合總報酬\n",
    "total_rewards = 0\n",
    "\n",
    "while no > 0:   # 執行 50 比賽回合數\n",
    "    # 隨機行動\n",
    "    action = env.action_space.sample() \n",
    "    # 觸動下一步\n",
    "    observation, reward, done, info = env.step(action)\n",
    "    # 累計報酬\n",
    "    total_rewards += reward\n",
    "\n",
    "    # 比賽回合結束，重置\n",
    "    if done:\n",
    "        observation = env.reset()\n",
    "        all_rewards.append(total_rewards)\n",
    "        total_rewards = 0\n",
    "        no-=1\n",
    "\n",
    "env.close()"
   ]
  },
  {
   "cell_type": "code",
   "execution_count": 15,
   "metadata": {},
   "outputs": [
    {
     "name": "stdout",
     "output_type": "stream",
     "text": [
      "回合\t報酬\t結果\n",
      "0\t56.0\tLoss\n",
      "1\t12.0\tLoss\n",
      "2\t37.0\tLoss\n",
      "3\t23.0\tLoss\n",
      "4\t18.0\tLoss\n",
      "5\t23.0\tLoss\n",
      "6\t16.0\tLoss\n",
      "7\t12.0\tLoss\n",
      "8\t16.0\tLoss\n",
      "9\t24.0\tLoss\n",
      "10\t11.0\tLoss\n",
      "11\t58.0\tLoss\n",
      "12\t25.0\tLoss\n",
      "13\t15.0\tLoss\n",
      "14\t12.0\tLoss\n",
      "15\t25.0\tLoss\n",
      "16\t19.0\tLoss\n",
      "17\t36.0\tLoss\n",
      "18\t12.0\tLoss\n",
      "19\t10.0\tLoss\n",
      "20\t13.0\tLoss\n",
      "21\t19.0\tLoss\n",
      "22\t31.0\tLoss\n",
      "23\t49.0\tLoss\n",
      "24\t17.0\tLoss\n",
      "25\t13.0\tLoss\n",
      "26\t15.0\tLoss\n",
      "27\t23.0\tLoss\n",
      "28\t24.0\tLoss\n",
      "29\t77.0\tLoss\n",
      "30\t35.0\tLoss\n",
      "31\t23.0\tLoss\n",
      "32\t17.0\tLoss\n",
      "33\t31.0\tLoss\n",
      "34\t57.0\tLoss\n",
      "35\t26.0\tLoss\n",
      "36\t9.0\tLoss\n",
      "37\t29.0\tLoss\n",
      "38\t35.0\tLoss\n",
      "39\t30.0\tLoss\n",
      "40\t12.0\tLoss\n",
      "41\t18.0\tLoss\n",
      "42\t31.0\tLoss\n",
      "43\t11.0\tLoss\n",
      "44\t19.0\tLoss\n",
      "45\t9.0\tLoss\n",
      "46\t21.0\tLoss\n",
      "47\t20.0\tLoss\n",
      "48\t35.0\tLoss\n",
      "49\t13.0\tLoss\n"
     ]
    }
   ],
   "source": [
    "# 顯示執行結果\n",
    "print('回合\\t報酬\\t結果')\n",
    "for i, (rewards, steps) in enumerate(zip(all_rewards, all_steps)):\n",
    "    result = 'Win' if steps >= 200 else 'Loss'\n",
    "    print(f'{i}\\t{rewards}\\t{result}')"
   ]
  },
  {
   "cell_type": "markdown",
   "metadata": {},
   "source": [
    "## 傳統解法"
   ]
  },
  {
   "cell_type": "code",
   "execution_count": null,
   "metadata": {},
   "outputs": [],
   "source": [
    "import math \n",
    "\n",
    "# 參數設定\n",
    "left, right = 0, 1  # 台車行進方向\n",
    "max_angle = 8       # 偏右8度以上，就往右前進，偏左也是同樣處理"
   ]
  },
  {
   "cell_type": "code",
   "execution_count": 28,
   "metadata": {},
   "outputs": [],
   "source": [
    "class Agent:\n",
    "    # 初始化\n",
    "    def __init__(self):\n",
    "        self.direction = left\n",
    "        self.last_direction=right\n",
    "        \n",
    "    # 自訂策略\n",
    "    def act(self, observation):\n",
    "        # 台車位置、台車速度、平衡桿角度、平衡桿速度\n",
    "        cart_position, cart_velocity, pole_angle, pole_velocity = observation\n",
    "        \n",
    "        '''\n",
    "        行動策略：\n",
    "        1. 設定每次行動採一左一右，盡量不離中心點。\n",
    "        2. 平衡桿角度偏右8度以上，就往右前進，直到角度偏右小於8度。\n",
    "        3. 反之，偏左也是同樣處理。\n",
    "        '''\n",
    "        if pole_angle < math.radians(max_angle) and \\\n",
    "            pole_angle > math.radians(-max_angle):\n",
    "            self.direction = (self.last_direction + 1) % 2\n",
    "        elif pole_angle >= math.radians(max_angle):\n",
    "            self.direction = right\n",
    "        else:\n",
    "            self.direction = left\n",
    "\n",
    "        self.last_direction = self.direction\n",
    "        \n",
    "        return self.direction  "
   ]
  },
  {
   "cell_type": "code",
   "execution_count": 29,
   "metadata": {},
   "outputs": [],
   "source": [
    "no = 50        # 比賽回合數\n",
    "\n",
    "# 載入 木棒台車(CartPole) 遊戲\n",
    "env = gym.make(\"CartPole-v0\")\n",
    "\n",
    "# 重置\n",
    "observation = env.reset()\n",
    "all_rewards=[] # 每回合總報酬\n",
    "total_rewards = 0\n",
    "agent = Agent()\n",
    "while no > 0:   # 執行 50 比賽回合數\n",
    "    # 行動\n",
    "    action = agent.act(observation) #env.action_space.sample()\n",
    "    # 觸動下一步\n",
    "    observation, reward, done, info = env.step(action)\n",
    "    # 累計報酬\n",
    "    total_rewards += reward\n",
    "\n",
    "    # 比賽回合結束，重置\n",
    "    if done:\n",
    "        observation = env.reset()\n",
    "        all_rewards.append(total_rewards)\n",
    "        total_rewards = 0\n",
    "        no-=1\n",
    "\n",
    "env.close()"
   ]
  },
  {
   "cell_type": "code",
   "execution_count": 30,
   "metadata": {},
   "outputs": [
    {
     "name": "stdout",
     "output_type": "stream",
     "text": [
      "回合\t報酬\t結果\n",
      "0\t97.0\tLoss\n",
      "1\t71.0\tLoss\n",
      "2\t112.0\tLoss\n",
      "3\t129.0\tLoss\n",
      "4\t96.0\tLoss\n",
      "5\t78.0\tLoss\n",
      "6\t116.0\tLoss\n",
      "7\t82.0\tLoss\n",
      "8\t84.0\tLoss\n",
      "9\t105.0\tLoss\n",
      "10\t80.0\tLoss\n",
      "11\t62.0\tLoss\n",
      "12\t71.0\tLoss\n",
      "13\t145.0\tLoss\n",
      "14\t72.0\tLoss\n",
      "15\t135.0\tLoss\n",
      "16\t127.0\tLoss\n",
      "17\t78.0\tLoss\n",
      "18\t100.0\tLoss\n",
      "19\t87.0\tLoss\n",
      "20\t93.0\tLoss\n",
      "21\t55.0\tLoss\n",
      "22\t95.0\tLoss\n",
      "23\t66.0\tLoss\n",
      "24\t156.0\tLoss\n",
      "25\t79.0\tLoss\n",
      "26\t48.0\tLoss\n",
      "27\t101.0\tLoss\n",
      "28\t77.0\tLoss\n",
      "29\t71.0\tLoss\n",
      "30\t107.0\tLoss\n",
      "31\t128.0\tLoss\n",
      "32\t94.0\tLoss\n",
      "33\t126.0\tLoss\n",
      "34\t56.0\tLoss\n",
      "35\t78.0\tLoss\n",
      "36\t68.0\tLoss\n",
      "37\t43.0\tLoss\n",
      "38\t69.0\tLoss\n",
      "39\t158.0\tLoss\n",
      "40\t77.0\tLoss\n",
      "41\t154.0\tLoss\n",
      "42\t128.0\tLoss\n",
      "43\t51.0\tLoss\n",
      "44\t148.0\tLoss\n",
      "45\t115.0\tLoss\n",
      "46\t93.0\tLoss\n",
      "47\t114.0\tLoss\n",
      "48\t74.0\tLoss\n",
      "49\t155.0\tLoss\n"
     ]
    }
   ],
   "source": [
    "# 顯示執行結果\n",
    "print('回合\\t報酬\\t結果')\n",
    "for i, (rewards, steps) in enumerate(zip(all_rewards, all_steps)):\n",
    "    result = 'Win' if steps >= 200 else 'Loss'\n",
    "    print(f'{i}\\t{rewards}\\t{result}')"
   ]
  },
  {
   "cell_type": "code",
   "execution_count": null,
   "metadata": {},
   "outputs": [],
   "source": []
  }
 ],
 "metadata": {
  "kernelspec": {
   "display_name": "Python 3",
   "language": "python",
   "name": "python3"
  },
  "language_info": {
   "codemirror_mode": {
    "name": "ipython",
    "version": 3
   },
   "file_extension": ".py",
   "mimetype": "text/x-python",
   "name": "python",
   "nbconvert_exporter": "python",
   "pygments_lexer": "ipython3",
   "version": "3.8.3"
  }
 },
 "nbformat": 4,
 "nbformat_minor": 2
}
